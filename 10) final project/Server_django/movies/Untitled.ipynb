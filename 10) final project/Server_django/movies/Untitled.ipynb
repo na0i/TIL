{
 "cells": [
  {
   "cell_type": "code",
   "execution_count": 22,
   "id": "b1c560b7",
   "metadata": {},
   "outputs": [],
   "source": [
    "import os\n",
    "import django\n",
    "os.environ.setdefault('DJANGO_SETTINGS_MODULE', 'rest.settings')\n",
    "os.environ[\"DJANGO_ALLOW_ASYNC_UNSAFE\"] = \"true\"\n",
    "django.setup()"
   ]
  },
  {
   "cell_type": "code",
   "execution_count": 23,
   "id": "42e26f56",
   "metadata": {},
   "outputs": [],
   "source": [
    "import requests"
   ]
  },
  {
   "cell_type": "code",
   "execution_count": 24,
   "id": "c1b23de2",
   "metadata": {},
   "outputs": [],
   "source": [
    "def get_genre():\n",
    "    genre_url = 'https://api.themoviedb.org/3/genre/movie/list?api_key=1f6f8f7d643eea003df9f19e38d13c3d&language=ko-kr'\n",
    "    response = requests.get(genre_url).json()['genres']\n",
    "\n",
    "    return response\n",
    "\n",
    "    "
   ]
  },
  {
   "cell_type": "code",
   "execution_count": 25,
   "id": "a369d72d",
   "metadata": {},
   "outputs": [
    {
     "name": "stdout",
     "output_type": "stream",
     "text": [
      "[{'id': 28, 'name': '액션'}, {'id': 12, 'name': '모험'}, {'id': 16, 'name': '애니메이션'}, {'id': 35, 'name': '코미디'}, {'id': 80, 'name': '범죄'}, {'id': 99, 'name': '다큐멘터리'}, {'id': 18, 'name': '드라마'}, {'id': 10751, 'name': '가족'}, {'id': 14, 'name': '판타지'}, {'id': 36, 'name': '역사'}, {'id': 27, 'name': '공포'}, {'id': 10402, 'name': '음악'}, {'id': 9648, 'name': '미스터리'}, {'id': 10749, 'name': '로맨스'}, {'id': 878, 'name': 'SF'}, {'id': 10770, 'name': 'TV 영화'}, {'id': 53, 'name': '스릴러'}, {'id': 10752, 'name': '전쟁'}, {'id': 37, 'name': '서부'}]\n"
     ]
    }
   ],
   "source": [
    "print(get_genre())"
   ]
  },
  {
   "cell_type": "code",
   "execution_count": 26,
   "id": "fe155d02",
   "metadata": {
    "pycharm": {
     "name": "#%%\n"
    }
   },
   "outputs": [],
   "source": [
    "def get_genre_data():\n",
    "    datum = get_genre()\n",
    "\n",
    "    for data in datum:\n",
    "        genre = Genre(genre_id=data['id'], name=data['name'])\n",
    "        genre.save()\n"
   ]
  },
  {
   "cell_type": "code",
   "execution_count": null,
   "outputs": [],
   "source": [],
   "metadata": {
    "collapsed": false,
    "pycharm": {
     "name": "#%%\n"
    }
   }
  }
 ],
 "metadata": {
  "kernelspec": {
   "display_name": "Django Shell-Plus",
   "language": "python",
   "name": "django_extensions"
  },
  "language_info": {
   "codemirror_mode": {
    "name": "ipython",
    "version": 3
   },
   "file_extension": ".py",
   "mimetype": "text/x-python",
   "name": "python",
   "nbconvert_exporter": "python",
   "pygments_lexer": "ipython3",
   "version": "3.9.2"
  }
 },
 "nbformat": 4,
 "nbformat_minor": 5
}