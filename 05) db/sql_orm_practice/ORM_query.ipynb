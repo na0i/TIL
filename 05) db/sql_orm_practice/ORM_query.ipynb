{
 "cells": [
  {
   "cell_type": "code",
   "execution_count": 27,
   "id": "skilled-berkeley",
   "metadata": {},
   "outputs": [],
   "source": [
    "import os\n",
    "import django\n",
    "os.environ.setdefault('DJANGO_SETTINGS_MODULE', 'rest.settings')\n",
    "os.environ[\"DJANGO_ALLOW_ASYNC_UNSAFE\"] = \"true\"\n",
    "django.setup()"
   ]
  },
  {
   "cell_type": "code",
   "execution_count": 28,
   "id": "aggressive-amsterdam",
   "metadata": {},
   "outputs": [
    {
     "data": {
      "text/plain": [
       "<QuerySet [{'first_name': '영환'}, {'first_name': '보람'}, {'first_name': '은영'}, {'first_name': '상현'}, {'first_name': '정훈'}, {'first_name': '서연'}, {'first_name': '정식'}, {'first_name': '영수'}, {'first_name': '예진'}, {'first_name': '은지'}, {'first_name': '준영'}, {'first_name': '숙자'}, {'first_name': '현주'}, {'first_name': '성수'}, {'first_name': '상훈'}, {'first_name': '민재'}, {'first_name': '지아'}, {'first_name': '정순'}, {'first_name': '지원'}, {'first_name': '하은'}, '...(remaining elements truncated)...']>"
      ]
     },
     "execution_count": 28,
     "metadata": {},
     "output_type": "execute_result"
    }
   ],
   "source": [
    "Customer.objects.filter(age=30).values('first_name')"
   ]
  },
  {
   "cell_type": "code",
   "execution_count": 14,
   "id": "white-cycle",
   "metadata": {},
   "outputs": [
    {
     "data": {
      "text/plain": [
       "414"
      ]
     },
     "execution_count": 14,
     "metadata": {},
     "output_type": "execute_result"
    }
   ],
   "source": [
    "# 나이가 30 이상인 사람의 인원수 (__gte, __gt, __lte, __lt)\n",
    "# gte: ~이상\n",
    "Customer.objects.filter(age__gte=30).count()"
   ]
  },
  {
   "cell_type": "code",
   "execution_count": 18,
   "id": "economic-martial",
   "metadata": {},
   "outputs": [
    {
     "data": {
      "text/plain": [
       "213"
      ]
     },
     "execution_count": 18,
     "metadata": {},
     "output_type": "execute_result"
    }
   ],
   "source": [
    "# 미성년자 인원수\n",
    "Customer.objects.filter(age__lt=20).count()"
   ]
  },
  {
   "cell_type": "code",
   "execution_count": 21,
   "id": "sought-alert",
   "metadata": {},
   "outputs": [
    {
     "data": {
      "text/plain": [
       "<QuerySet [{'last_name': '김', 'age': 30}, {'last_name': '김', 'age': 30}, {'last_name': '김', 'age': 30}, {'last_name': '김', 'age': 30}, {'last_name': '김', 'age': 30}, {'last_name': '김', 'age': 30}]>"
      ]
     },
     "execution_count": 21,
     "metadata": {},
     "output_type": "execute_result"
    }
   ],
   "source": [
    "Customer.objects.filter(age=30, last_name='김').values('last_name', 'age')"
   ]
  },
  {
   "cell_type": "code",
   "execution_count": 23,
   "id": "packed-enzyme",
   "metadata": {},
   "outputs": [
    {
     "data": {
      "text/plain": [
       "6"
      ]
     },
     "execution_count": 23,
     "metadata": {},
     "output_type": "execute_result"
    }
   ],
   "source": [
    "# 나이가 30이면서 동시에 김씨인 사람의 수(and 연산)\n",
    "Customer.objects.filter(age=30, last_name='김').count()"
   ]
  },
  {
   "cell_type": "code",
   "execution_count": 26,
   "id": "emerging-newark",
   "metadata": {},
   "outputs": [
    {
     "data": {
      "text/plain": [
       "112"
      ]
     },
     "execution_count": 26,
     "metadata": {},
     "output_type": "execute_result"
    }
   ],
   "source": [
    "# 나이가 30이상이면서 동시에 김씨인 사람의 수(and 연산)\n",
    "Customer.objects.filter(age__gte=30, last_name='김').count()"
   ]
  },
  {
   "cell_type": "code",
   "execution_count": 35,
   "id": "paperback-recovery",
   "metadata": {},
   "outputs": [
    {
     "data": {
      "text/plain": [
       "12"
      ]
     },
     "execution_count": 35,
     "metadata": {},
     "output_type": "execute_result"
    }
   ],
   "source": [
    "Customer.objects.filter(age__gte=30, last_name='강').count()"
   ]
  },
  {
   "cell_type": "code",
   "execution_count": 38,
   "id": "fourth-atlanta",
   "metadata": {},
   "outputs": [
    {
     "data": {
      "text/plain": [
       "425"
      ]
     },
     "execution_count": 38,
     "metadata": {},
     "output_type": "execute_result"
    }
   ],
   "source": [
    "# 30 이상이거나, 강씨인 사람의 수\n",
    "(Customer.objects.filter(age__gte=30) | Customer.objects.filter(last_name='강').values('age','last_name')).count()"
   ]
  },
  {
   "cell_type": "code",
   "execution_count": 41,
   "id": "delayed-addition",
   "metadata": {},
   "outputs": [],
   "source": [
    "# 이게 너무 귀찮으니까 Q의 등장"
   ]
  },
  {
   "cell_type": "code",
   "execution_count": 44,
   "id": "civil-occurrence",
   "metadata": {},
   "outputs": [
    {
     "data": {
      "text/plain": [
       "425"
      ]
     },
     "execution_count": 44,
     "metadata": {},
     "output_type": "execute_result"
    }
   ],
   "source": [
    "from django.db.models import Q\n",
    "Customer.objects.filter(Q(age__gte=30) | Q(last_name='강')).count()"
   ]
  },
  {
   "cell_type": "code",
   "execution_count": 45,
   "id": "alert-circular",
   "metadata": {},
   "outputs": [],
   "source": [
    "# % => 무엇이든\n",
    "# _ => 반드시 그 자리에\n",
    "# django orm에서는 % 만 사용 가능\n",
    "# 그 이상의 패턴 비교를 하려면, 아예 정규 표현식(regex)를 사용한다."
   ]
  },
  {
   "cell_type": "code",
   "execution_count": 47,
   "id": "false-librarian",
   "metadata": {},
   "outputs": [
    {
     "data": {
      "text/plain": [
       "249"
      ]
     },
     "execution_count": 47,
     "metadata": {},
     "output_type": "execute_result"
    }
   ],
   "source": [
    "# 02- 로 시작하는 전화번호 개수 (02-%)\n",
    "Customer.objects.filter(phone__startswith='02-').count()"
   ]
  },
  {
   "cell_type": "code",
   "execution_count": 49,
   "id": "studied-corporation",
   "metadata": {},
   "outputs": [],
   "source": [
    "# 공식문서를 찾아보자"
   ]
  },
  {
   "cell_type": "code",
   "execution_count": 55,
   "id": "distinct-musical",
   "metadata": {},
   "outputs": [
    {
     "data": {
      "text/plain": [
       "<QuerySet [{'first_name': '은정'}, {'first_name': '혜진'}, {'first_name': '경수'}, {'first_name': '준영'}]>"
      ]
     },
     "execution_count": 55,
     "metadata": {},
     "output_type": "execute_result"
    }
   ],
   "source": [
    "# 강원도민 중 황씨의 이름\n",
    "Customer.objects.filter(country='강원도', last_name='황').values('first_name')"
   ]
  },
  {
   "cell_type": "code",
   "execution_count": 60,
   "id": "macro-nelson",
   "metadata": {},
   "outputs": [
    {
     "data": {
      "text/plain": [
       "<QuerySet [<Customer: Customer object (219)>, <Customer: Customer object (252)>, <Customer: Customer object (346)>, <Customer: Customer object (356)>, <Customer: Customer object (365)>, <Customer: Customer object (368)>, <Customer: Customer object (399)>, <Customer: Customer object (408)>, <Customer: Customer object (431)>, <Customer: Customer object (446)>]>"
      ]
     },
     "execution_count": 60,
     "metadata": {},
     "output_type": "execute_result"
    }
   ],
   "source": [
    "# 나이가 가장 많은 사람 10명(ORM이 자동으로 LIMIT, OFFSET 처리)\n",
    "Customer.objects.order_by('-age')[:10]\n",
    "Customer.objects.order_by('-age')[10:20]"
   ]
  },
  {
   "cell_type": "code",
   "execution_count": 62,
   "id": "classified-stockholm",
   "metadata": {},
   "outputs": [
    {
     "data": {
      "text/plain": [
       "<QuerySet [{'balance': 150}, {'balance': 150}, {'balance': 150}, {'balance': 150}, {'balance': 150}, {'balance': 160}, {'balance': 160}, {'balance': 160}, {'balance': 160}, {'balance': 170}]>"
      ]
     },
     "execution_count": 62,
     "metadata": {},
     "output_type": "execute_result"
    }
   ],
   "source": [
    "# 최빈 10명(디폴트는 오름차순)\n",
    "Customer.objects.order_by('balance')[:10].values('balance')"
   ]
  },
  {
   "cell_type": "code",
   "execution_count": 66,
   "id": "handled-parks",
   "metadata": {},
   "outputs": [
    {
     "data": {
      "text/plain": [
       "<QuerySet [{'balance': 150, 'age': 33}, {'balance': 150, 'age': 32}, {'balance': 150, 'age': 32}, {'balance': 150, 'age': 28}, {'balance': 150, 'age': 20}, {'balance': 160, 'age': 36}, {'balance': 160, 'age': 32}, {'balance': 160, 'age': 25}, {'balance': 160, 'age': 23}, {'balance': 170, 'age': 37}]>"
      ]
     },
     "execution_count": 66,
     "metadata": {},
     "output_type": "execute_result"
    }
   ],
   "source": [
    "# 최빈 + 최연장자 10명: 돈없는데 늙으신분\n",
    "# .values() 하면 전부 나옴\n",
    "Customer.objects.order_by('balance', '-age')[:10].values('balance', 'age')"
   ]
  },
  {
   "cell_type": "code",
   "execution_count": 71,
   "id": "primary-discussion",
   "metadata": {},
   "outputs": [
    {
     "data": {
      "text/plain": [
       "<Customer: Customer object (852)>"
      ]
     },
     "execution_count": 71,
     "metadata": {},
     "output_type": "execute_result"
    }
   ],
   "source": [
    "# 가장 가난하고 늙으신 분 1명\n",
    "Customer.objects.order_by('balance', '-age')[0]"
   ]
  },
  {
   "cell_type": "code",
   "execution_count": 74,
   "id": "comparable-woman",
   "metadata": {},
   "outputs": [
    {
     "data": {
      "text/plain": [
       "{'id': 912,\n",
       " 'first_name': '준영',\n",
       " 'last_name': '황',\n",
       " 'age': 16,\n",
       " 'country': '강원도',\n",
       " 'phone': '02-1030-5139',\n",
       " 'balance': 6500}"
      ]
     },
     "execution_count": 74,
     "metadata": {},
     "output_type": "execute_result"
    }
   ],
   "source": [
    "# 성 / 이름 ㄱㄴㄷ 정렬 내림차순 기준 5번째\n",
    "Customer.objects.order_by('-last_name','-first_name').values()[4]"
   ]
  },
  {
   "cell_type": "markdown",
   "id": "political-acrobat",
   "metadata": {},
   "source": [
    "## Annotate"
   ]
  },
  {
   "cell_type": "code",
   "execution_count": 80,
   "id": "smaller-waters",
   "metadata": {},
   "outputs": [],
   "source": [
    "from django.db.models import Count\n",
    "from django.db.models.functions import Concat"
   ]
  },
  {
   "cell_type": "code",
   "execution_count": 81,
   "id": "linear-pendant",
   "metadata": {},
   "outputs": [
    {
     "data": {
      "text/plain": [
       "{'id': 5,\n",
       " 'first_name': '영환',\n",
       " 'last_name': '차',\n",
       " 'age': 30,\n",
       " 'country': '충청북도',\n",
       " 'phone': '011-2921-4284',\n",
       " 'balance': 220,\n",
       " 'full_name': '영환차'}"
      ]
     },
     "execution_count": 81,
     "metadata": {},
     "output_type": "execute_result"
    }
   ],
   "source": [
    "Customer.objects.annotate(full_name=Concat('first_name', 'last_name')).values()[4]"
   ]
  },
  {
   "cell_type": "code",
   "execution_count": 83,
   "id": "upset-stream",
   "metadata": {},
   "outputs": [
    {
     "data": {
      "text/plain": [
       "{'id': 2,\n",
       " 'first_name': '경희',\n",
       " 'last_name': '이',\n",
       " 'age': 36,\n",
       " 'country': '경상남도',\n",
       " 'phone': '011-9854-5133',\n",
       " 'balance': 5900,\n",
       " 'country__count': 1}"
      ]
     },
     "execution_count": 83,
     "metadata": {},
     "output_type": "execute_result"
    }
   ],
   "source": [
    "Customer.objects.annotate(Count('country')).values()[1]"
   ]
  }
 ],
 "metadata": {
  "kernelspec": {
   "display_name": "Django Shell-Plus",
   "language": "python",
   "name": "django_extensions"
  },
  "language_info": {
   "codemirror_mode": {
    "name": "ipython",
    "version": 3
   },
   "file_extension": ".py",
   "mimetype": "text/x-python",
   "name": "python",
   "nbconvert_exporter": "python",
   "pygments_lexer": "ipython3",
   "version": "3.8.7"
  },
  "toc": {
   "base_numbering": 1,
   "nav_menu": {},
   "number_sections": true,
   "sideBar": true,
   "skip_h1_title": false,
   "title_cell": "Table of Contents",
   "title_sidebar": "Contents",
   "toc_cell": false,
   "toc_position": {},
   "toc_section_display": true,
   "toc_window_display": false
  },
  "varInspector": {
   "cols": {
    "lenName": 16,
    "lenType": 16,
    "lenVar": 40
   },
   "kernels_config": {
    "python": {
     "delete_cmd_postfix": "",
     "delete_cmd_prefix": "del ",
     "library": "var_list.py",
     "varRefreshCmd": "print(var_dic_list())"
    },
    "r": {
     "delete_cmd_postfix": ") ",
     "delete_cmd_prefix": "rm(",
     "library": "var_list.r",
     "varRefreshCmd": "cat(var_dic_list()) "
    }
   },
   "types_to_exclude": [
    "module",
    "function",
    "builtin_function_or_method",
    "instance",
    "_Feature"
   ],
   "window_display": false
  }
 },
 "nbformat": 4,
 "nbformat_minor": 5
}
